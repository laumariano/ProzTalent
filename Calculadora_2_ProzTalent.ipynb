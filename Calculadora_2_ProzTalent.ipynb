{
  "nbformat": 4,
  "nbformat_minor": 0,
  "metadata": {
    "colab": {
      "provenance": []
    },
    "kernelspec": {
      "name": "python3",
      "display_name": "Python 3"
    },
    "language_info": {
      "name": "python"
    }
  },
  "cells": [
    {
      "cell_type": "code",
      "source": [
        "def soma(a, b):\n",
        "    return a + b\n",
        "\n",
        "def subtracao(a, b):\n",
        "    return a - b\n",
        "\n",
        "def multiplicacao(a, b):\n",
        "    return a * b\n",
        "\n",
        "def divisao(a, b):\n",
        "    if b != 0:\n",
        "        return a / b\n",
        "    else:\n",
        "        return \"Erro: divisão por zero\"\n",
        "\n",
        "def calculadora():\n",
        "    while True:\n",
        "        print(\"\\nEscolha a operação:\")\n",
        "        print(\"1: Soma\")\n",
        "        print(\"2: Subtração\")\n",
        "        print(\"3: Multiplicação\")\n",
        "        print(\"4: Divisão\")\n",
        "        print(\"0: Sair\")\n",
        "\n",
        "        opcao = input(\"Digite o número para a operação desejada: \")\n",
        "\n",
        "        if opcao == '0':\n",
        "            print(\"Encerrando a calculadora.\")\n",
        "            break\n",
        "        elif opcao not in ['1', '2', '3', '4']:\n",
        "            print(\"Essa opção não existe.\")\n",
        "            continue\n",
        "\n",
        "        try:\n",
        "            num1 = float(input(\"Digite o primeiro valor: \"))\n",
        "            num2 = float(input(\"Digite o segundo valor: \"))\n",
        "        except ValueError:\n",
        "            print(\"Entrada inválida. Por favor, insira números.\")\n",
        "            continue\n",
        "\n",
        "        if opcao == '1':\n",
        "            resultado = soma(num1, num2)\n",
        "            print(\"Resultado: \", resultado)\n",
        "        elif opcao == '2':\n",
        "            resultado = subtracao(num1, num2)\n",
        "            print(\"Resultado: \", resultado)\n",
        "        elif opcao == '3':\n",
        "            resultado = multiplicacao(num1, num2)\n",
        "            print(\"Resultado: \", resultado)\n",
        "        elif opcao == '4':\n",
        "            resultado = divisao(num1, num2)\n",
        "            print(\"Resultado: \", resultado)\n",
        "\n",
        "if __name__ == \"__main__\":\n",
        "    calculadora()\n"
      ],
      "metadata": {
        "colab": {
          "base_uri": "https://localhost:8080/"
        },
        "id": "5QQHBCq4UhJ2",
        "outputId": "e385b63e-7fe4-46da-9cda-b270bf1b9bc4"
      },
      "execution_count": null,
      "outputs": [
        {
          "output_type": "stream",
          "name": "stdout",
          "text": [
            "\n",
            "Escolha a operação:\n",
            "1: Soma\n",
            "2: Subtração\n",
            "3: Multiplicação\n",
            "4: Divisão\n",
            "0: Sair\n",
            "Digite o número para a operação desejada: 4\n",
            "Digite o primeiro valor: 12\n",
            "Digite o segundo valor: 5\n",
            "Resultado:  2.4\n",
            "\n",
            "Escolha a operação:\n",
            "1: Soma\n",
            "2: Subtração\n",
            "3: Multiplicação\n",
            "4: Divisão\n",
            "0: Sair\n"
          ]
        }
      ]
    },
    {
      "cell_type": "code",
      "source": [],
      "metadata": {
        "id": "I0J_0qYtUneF"
      },
      "execution_count": null,
      "outputs": []
    }
  ]
}