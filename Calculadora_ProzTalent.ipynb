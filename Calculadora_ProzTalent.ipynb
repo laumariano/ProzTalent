{
  "nbformat": 4,
  "nbformat_minor": 0,
  "metadata": {
    "colab": {
      "provenance": []
    },
    "kernelspec": {
      "name": "python3",
      "display_name": "Python 3"
    },
    "language_info": {
      "name": "python"
    }
  },
  "cells": [
    {
      "cell_type": "code",
      "execution_count": 6,
      "metadata": {
        "colab": {
          "base_uri": "https://localhost:8080/"
        },
        "id": "usxuLnzeKCP7",
        "outputId": "a495a092-f35a-4ad8-e4c8-02481b19337e"
      },
      "outputs": [
        {
          "output_type": "stream",
          "name": "stdout",
          "text": [
            "Digite o primeiro número: 5\n",
            "Digite o segundo número: 10\n",
            "Escolha a operação (1 - Soma, 2 - Subtração, 3 - Multiplicação, 4 - Divisão): 4\n",
            "Resultado da operação: 0.5\n"
          ]
        }
      ],
      "source": [
        "def calculadora(num1, num2, operacao):\n",
        "    if operacao == 1:\n",
        "        return num1 + num2\n",
        "    elif operacao == 2:\n",
        "        return num1 - num2\n",
        "    elif operacao == 3:\n",
        "        return num1 * num2\n",
        "    elif operacao == 4:\n",
        "        if num2 != 0:\n",
        "            return num1 / num2\n",
        "        else:\n",
        "            return \"Erro: Divisão por zero!\"\n",
        "    else:\n",
        "        return 0\n",
        "\n",
        "num1 = float(input(\"Digite o primeiro número: \"))\n",
        "num2 = float(input(\"Digite o segundo número: \"))\n",
        "operacao = int(input(\"Escolha a operação (1 - Soma, 2 - Subtração, 3 - Multiplicação, 4 - Divisão): \"))\n",
        "\n",
        "resultado = calculadora(num1, num2, operacao)\n",
        "print(\"Resultado da operação:\", resultado)\n"
      ]
    },
    {
      "cell_type": "code",
      "source": [],
      "metadata": {
        "id": "MVXc9UlfRoCr"
      },
      "execution_count": null,
      "outputs": []
    }
  ]
}