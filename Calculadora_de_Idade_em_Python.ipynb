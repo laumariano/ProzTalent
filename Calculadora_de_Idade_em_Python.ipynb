{
  "nbformat": 4,
  "nbformat_minor": 0,
  "metadata": {
    "colab": {
      "provenance": []
    },
    "kernelspec": {
      "name": "python3",
      "display_name": "Python 3"
    },
    "language_info": {
      "name": "python"
    }
  },
  "cells": [
    {
      "cell_type": "code",
      "execution_count": 1,
      "metadata": {
        "colab": {
          "base_uri": "https://localhost:8080/"
        },
        "id": "WEkypmtpwhmG",
        "outputId": "4dd87878-e4a9-4d60-8ac7-b211a7b6baaa"
      },
      "outputs": [
        {
          "output_type": "stream",
          "name": "stdout",
          "text": [
            "Digite seu nome completo: Laura Mariano\n",
            "Digite o ano de seu nascimento (entre 1922 e 2021): 2001\n",
            "Olá, Laura Mariano! Você completou ou completará 23 anos em 2024.\n"
          ]
        }
      ],
      "source": [
        "import datetime\n",
        "\n",
        "def get_user_input():\n",
        "    name = input(\"Digite seu nome completo: \")\n",
        "    while True:\n",
        "        try:\n",
        "            birth_year = int(input(\"Digite o ano de seu nascimento (entre 1922 e 2021): \"))\n",
        "            if 1922 <= birth_year <= 2021:\n",
        "                return name, birth_year\n",
        "            else:\n",
        "                print(\"Por favor, digite um ano entre 1922 e 2021.\")\n",
        "        except ValueError:\n",
        "            print(\"Por favor, digite um valor numérico válido para o ano.\")\n",
        "\n",
        "def calculate_age(birth_year):\n",
        "    current_year = datetime.datetime.now().year\n",
        "    return current_year - birth_year\n",
        "\n",
        "def main():\n",
        "    name, birth_year = get_user_input()\n",
        "    age = calculate_age(birth_year)\n",
        "    print(f\"Olá, {name}! Você completou ou completará {age} anos em 2024.\")\n",
        "\n",
        "if __name__ == \"__main__\":\n",
        "    main()\n"
      ]
    },
    {
      "cell_type": "code",
      "source": [],
      "metadata": {
        "id": "ZFBBkLxRwjSR"
      },
      "execution_count": null,
      "outputs": []
    }
  ]
}